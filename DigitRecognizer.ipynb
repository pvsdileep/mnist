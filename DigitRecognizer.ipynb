{
 "cells": [
  {
   "cell_type": "code",
   "execution_count": 2,
   "metadata": {},
   "outputs": [
    {
     "name": "stdout",
     "output_type": "stream",
     "text": [
      "(42000, 785)\n",
      "(28000, 784)\n"
     ]
    }
   ],
   "source": [
    "\n",
    "\n",
    "# This Python 3 environment comes with many helpful analytics libraries installed\n",
    "# It is defined by the kaggle/python docker image: https://github.com/kaggle/docker-python\n",
    "# For example, here's several helpful packages to load in \n",
    "import tensorflow as tf\n",
    "import numpy as np # linear algebra\n",
    "import pandas as pd # data processing, CSV file I/O (e.g. pd.read_csv)\n",
    "from matplotlib import pyplot as plt # for image plotting\n",
    "\n",
    "# Any results you write to the current directory are saved as output.\n",
    "\n",
    "# read input train.csv\n",
    "train_set = pd.read_csv('train.csv').astype(np.float32)\n",
    "test_set = pd.read_csv('test.csv').astype(np.float32)\n",
    "print(train_set.shape)\n",
    "print(test_set.shape)\n"
   ]
  },
  {
   "cell_type": "code",
   "execution_count": 3,
   "metadata": {},
   "outputs": [
    {
     "name": "stdout",
     "output_type": "stream",
     "text": [
      "labelled as \n",
      "2.0\n"
     ]
    }
   ],
   "source": [
    "#show i'th row of input as image.\n",
    "#ignore first column as that is label\n",
    "image_index = 41000\n",
    "b = range(1,785)\n",
    "image = np.reshape(train_set.values[image_index][b], (28,28))\n",
    "print(\"labelled as \")\n",
    "print(train_set.values[image_index][0])\n",
    "plt.imshow(image, cmap = 'gray')\n",
    "#image = np.reshape(train_set.values[0], (28,28))\n",
    "\n",
    "#split training 90/10\n",
    "mask = np.random.rand(len(train_set)) < 0.9\n",
    "train_set_train = train_set[mask]\n",
    "train_set_valid = train_set[~mask]\n",
    "\n",
    "xs_valid = train_set_valid.values[:,b]\n",
    "ys_valid = train_set_valid.values[:,0]"
   ]
  },
  {
   "cell_type": "code",
   "execution_count": 4,
   "metadata": {
    "collapsed": true
   },
   "outputs": [],
   "source": [
    "x = tf.placeholder(tf.float32, [None, 784])   #input placeholder\n",
    "\n",
    "##### Model 2  - Deep MNIST #####\n",
    "def weights(shape):\n",
    "    var = tf.Variable(tf.truncated_normal(shape, stddev = 0.1))\n",
    "    return var\n",
    "\n",
    "def bias(shape):\n",
    "    var = tf.constant(0.1, shape=shape)\n",
    "    return tf.Variable(var)\n",
    "\n",
    "def conv2d(x, W):\n",
    "    conv = tf.nn.conv2d(x, W, strides = [1,1,1,1], padding = \"SAME\", name = \"dummy\")\n",
    "    return conv\n",
    "\n",
    "def max_pool2X2(x):\n",
    "    maxpool = tf.nn.max_pool(x, ksize = [1,2,2,1], strides = [1,2,2,1], padding = \"SAME\")\n",
    "    return maxpool"
   ]
  },
  {
   "cell_type": "code",
   "execution_count": 5,
   "metadata": {
    "collapsed": true
   },
   "outputs": [],
   "source": [
    "#first layer\n",
    "weight_conv1 = weights([5,5,1,32])\n",
    "bias_conv1 = bias([32])\n",
    "\n",
    "train_data = tf.reshape(x, (-1,28,28,1))\n",
    "\n",
    "conv1 = tf.nn.relu(conv2d(train_data, weight_conv1)+bias_conv1)\n",
    "pool1 = max_pool2X2(conv1)"
   ]
  },
  {
   "cell_type": "code",
   "execution_count": 6,
   "metadata": {
    "collapsed": true
   },
   "outputs": [],
   "source": [
    "#second layer\n",
    "weight_conv2 = weights([5,5,32,64])\n",
    "bias_conv2 = bias([64])\n",
    "conv2 = tf.nn.relu(conv2d(pool1, weight_conv2)+bias_conv2)\n",
    "pool2 = max_pool2X2(conv2)"
   ]
  },
  {
   "cell_type": "code",
   "execution_count": 7,
   "metadata": {
    "collapsed": true
   },
   "outputs": [],
   "source": [
    "#fully connected\n",
    "fc1weights = weights([7*7*64,1024])\n",
    "fc1bias = weights([1024])\n",
    "\n",
    "fcrelu = tf.nn.relu(tf.matmul(tf.reshape(pool2,[-1,7*7*64]),fc1weights)+fc1bias)"
   ]
  },
  {
   "cell_type": "code",
   "execution_count": 8,
   "metadata": {
    "collapsed": true
   },
   "outputs": [],
   "source": [
    "#drop out\n",
    "keepprob = tf.placeholder(tf.float32)\n",
    "dropout = tf.nn.dropout(fcrelu,keepprob)"
   ]
  },
  {
   "cell_type": "code",
   "execution_count": 9,
   "metadata": {
    "collapsed": true
   },
   "outputs": [],
   "source": [
    "#last layer with 10 outputs\n",
    "weights_y = weights([1024,10])\n",
    "bias_y = bias([10])\n",
    "y_2 = tf.matmul(dropout,weights_y)+bias_y"
   ]
  },
  {
   "cell_type": "code",
   "execution_count": 10,
   "metadata": {},
   "outputs": [
    {
     "name": "stdout",
     "output_type": "stream",
     "text": [
      "in loop 0 accuracy is 0\n",
      "in loop 100 accuracy is [None, 0.91000003]\n",
      "in loop 200 accuracy is [None, 0.92000002]\n",
      "in loop 300 accuracy is [None, 0.91000003]\n",
      "in loop 400 accuracy is [None, 0.92000002]\n",
      "in loop 500 accuracy is [None, 0.97000003]\n",
      "in loop 600 accuracy is [None, 0.92000002]\n",
      "in loop 700 accuracy is [None, 0.95999998]\n",
      "in loop 800 accuracy is [None, 0.98000002]\n",
      "in loop 900 accuracy is [None, 0.94999999]\n",
      "in loop 1000 accuracy is [None, 0.98000002]\n",
      "in loop 1100 accuracy is [None, 0.98000002]\n",
      "in loop 1200 accuracy is [None, 0.99000001]\n",
      "in loop 1300 accuracy is [None, 0.97000003]\n",
      "in loop 1400 accuracy is [None, 0.94]\n",
      "in loop 1500 accuracy is [None, 0.98000002]\n",
      "in loop 1600 accuracy is [None, 0.94999999]\n",
      "in loop 1700 accuracy is [None, 0.98000002]\n",
      "in loop 1800 accuracy is [None, 0.97000003]\n",
      "in loop 1900 accuracy is [None, 0.98000002]\n",
      "in loop 2000 accuracy is [None, 0.97000003]\n",
      "in loop 2100 accuracy is [None, 1.0]\n",
      "in loop 2200 accuracy is [None, 0.94999999]\n",
      "in loop 2300 accuracy is [None, 0.98000002]\n",
      "in loop 2400 accuracy is [None, 0.99000001]\n",
      "in loop 2500 accuracy is [None, 0.98000002]\n",
      "in loop 2600 accuracy is [None, 0.99000001]\n",
      "in loop 2700 accuracy is [None, 0.97000003]\n",
      "in loop 2800 accuracy is [None, 0.98000002]\n",
      "in loop 2900 accuracy is [None, 0.99000001]\n",
      "in loop 3000 accuracy is [None, 0.98000002]\n",
      "in loop 3100 accuracy is [None, 0.98000002]\n",
      "in loop 3200 accuracy is [None, 0.98000002]\n",
      "in loop 3300 accuracy is [None, 1.0]\n",
      "in loop 3400 accuracy is [None, 0.99000001]\n",
      "in loop 3500 accuracy is [None, 0.99000001]\n",
      "in loop 3600 accuracy is [None, 0.97000003]\n",
      "in loop 3700 accuracy is [None, 0.95999998]\n",
      "in loop 3800 accuracy is [None, 1.0]\n",
      "in loop 3900 accuracy is [None, 1.0]\n",
      "in loop 4000 accuracy is [None, 0.97000003]\n",
      "in loop 4100 accuracy is [None, 0.99000001]\n",
      "in loop 4200 accuracy is [None, 0.98000002]\n",
      "in loop 4300 accuracy is [None, 0.99000001]\n",
      "in loop 4400 accuracy is [None, 0.97000003]\n",
      "in loop 4500 accuracy is [None, 0.99000001]\n",
      "in loop 4600 accuracy is [None, 0.99000001]\n",
      "in loop 4700 accuracy is [None, 0.99000001]\n",
      "in loop 4800 accuracy is [None, 0.99000001]\n",
      "in loop 4900 accuracy is [None, 0.97000003]\n",
      "in loop 5000 accuracy is [None, 0.99000001]\n",
      "in loop 5100 accuracy is [None, 1.0]\n",
      "in loop 5200 accuracy is [None, 1.0]\n",
      "in loop 5300 accuracy is [None, 0.98000002]\n",
      "in loop 5400 accuracy is [None, 0.97000003]\n",
      "in loop 5500 accuracy is [None, 1.0]\n",
      "in loop 5600 accuracy is [None, 0.95999998]\n",
      "in loop 5700 accuracy is [None, 0.99000001]\n",
      "in loop 5800 accuracy is [None, 0.99000001]\n",
      "in loop 5900 accuracy is [None, 0.97000003]\n",
      "in loop 6000 accuracy is [None, 0.99000001]\n",
      "in loop 6100 accuracy is [None, 0.99000001]\n",
      "in loop 6200 accuracy is [None, 1.0]\n",
      "in loop 6300 accuracy is [None, 1.0]\n",
      "in loop 6400 accuracy is [None, 0.97000003]\n",
      "in loop 6500 accuracy is [None, 1.0]\n",
      "in loop 6600 accuracy is [None, 1.0]\n",
      "in loop 6700 accuracy is [None, 1.0]\n",
      "in loop 6800 accuracy is [None, 0.99000001]\n",
      "in loop 6900 accuracy is [None, 1.0]\n",
      "in loop 7000 accuracy is [None, 0.97000003]\n",
      "in loop 7100 accuracy is [None, 0.99000001]\n",
      "in loop 7200 accuracy is [None, 0.99000001]\n",
      "in loop 7300 accuracy is [None, 0.97000003]\n",
      "in loop 7400 accuracy is [None, 0.98000002]\n",
      "in loop 7500 accuracy is [None, 0.99000001]\n",
      "in loop 7600 accuracy is [None, 0.99000001]\n",
      "in loop 7700 accuracy is [None, 1.0]\n",
      "in loop 7800 accuracy is [None, 0.98000002]\n",
      "in loop 7900 accuracy is [None, 0.99000001]\n",
      "in loop 8000 accuracy is [None, 0.99000001]\n",
      "in loop 8100 accuracy is [None, 0.97000003]\n",
      "in loop 8200 accuracy is [None, 0.98000002]\n",
      "in loop 8300 accuracy is [None, 0.98000002]\n",
      "in loop 8400 accuracy is [None, 0.99000001]\n",
      "in loop 8500 accuracy is [None, 0.99000001]\n",
      "in loop 8600 accuracy is [None, 0.95999998]\n",
      "in loop 8700 accuracy is [None, 0.98000002]\n",
      "in loop 8800 accuracy is [None, 1.0]\n",
      "in loop 8900 accuracy is [None, 0.94999999]\n",
      "in loop 9000 accuracy is [None, 0.99000001]\n",
      "in loop 9100 accuracy is [None, 0.98000002]\n",
      "in loop 9200 accuracy is [None, 1.0]\n",
      "in loop 9300 accuracy is [None, 0.97000003]\n",
      "in loop 9400 accuracy is [None, 0.99000001]\n",
      "in loop 9500 accuracy is [None, 1.0]\n",
      "in loop 9600 accuracy is [None, 0.98000002]\n",
      "in loop 9700 accuracy is [None, 0.98000002]\n",
      "in loop 9800 accuracy is [None, 1.0]\n",
      "in loop 9900 accuracy is [None, 0.99000001]\n",
      "in loop 10000 accuracy is [None, 0.98000002]\n",
      "in loop 10100 accuracy is [None, 1.0]\n",
      "in loop 10200 accuracy is [None, 1.0]\n",
      "in loop 10300 accuracy is [None, 1.0]\n",
      "in loop 10400 accuracy is [None, 0.99000001]\n",
      "in loop 10500 accuracy is [None, 0.99000001]\n",
      "in loop 10600 accuracy is [None, 0.99000001]\n",
      "in loop 10700 accuracy is [None, 0.99000001]\n",
      "in loop 10800 accuracy is [None, 1.0]\n",
      "in loop 10900 accuracy is [None, 1.0]\n",
      "in loop 11000 accuracy is [None, 0.99000001]\n",
      "in loop 11100 accuracy is [None, 0.99000001]\n",
      "in loop 11200 accuracy is [None, 0.99000001]\n",
      "in loop 11300 accuracy is [None, 0.97000003]\n",
      "in loop 11400 accuracy is [None, 1.0]\n",
      "in loop 11500 accuracy is [None, 0.99000001]\n",
      "in loop 11600 accuracy is [None, 0.99000001]\n",
      "in loop 11700 accuracy is [None, 1.0]\n",
      "in loop 11800 accuracy is [None, 1.0]\n",
      "in loop 11900 accuracy is [None, 1.0]\n",
      "in loop 12000 accuracy is [None, 0.99000001]\n",
      "in loop 12100 accuracy is [None, 0.99000001]\n",
      "in loop 12200 accuracy is [None, 0.98000002]\n",
      "in loop 12300 accuracy is [None, 0.99000001]\n",
      "in loop 12400 accuracy is [None, 1.0]\n",
      "in loop 12500 accuracy is [None, 0.99000001]\n",
      "in loop 12600 accuracy is [None, 0.97000003]\n",
      "in loop 12700 accuracy is [None, 0.98000002]\n",
      "in loop 12800 accuracy is [None, 1.0]\n",
      "in loop 12900 accuracy is [None, 1.0]\n",
      "in loop 13000 accuracy is [None, 0.98000002]\n",
      "in loop 13100 accuracy is [None, 0.98000002]\n",
      "in loop 13200 accuracy is [None, 1.0]\n",
      "in loop 13300 accuracy is [None, 1.0]\n",
      "in loop 13400 accuracy is [None, 0.99000001]\n",
      "in loop 13500 accuracy is [None, 1.0]\n",
      "in loop 13600 accuracy is [None, 0.97000003]\n",
      "in loop 13700 accuracy is [None, 1.0]\n",
      "in loop 13800 accuracy is [None, 1.0]\n",
      "in loop 13900 accuracy is [None, 1.0]\n",
      "in loop 14000 accuracy is [None, 1.0]\n",
      "in loop 14100 accuracy is [None, 1.0]\n",
      "in loop 14200 accuracy is [None, 0.98000002]\n",
      "in loop 14300 accuracy is [None, 1.0]\n",
      "in loop 14400 accuracy is [None, 1.0]\n",
      "in loop 14500 accuracy is [None, 1.0]\n",
      "in loop 14600 accuracy is [None, 0.99000001]\n",
      "in loop 14700 accuracy is [None, 1.0]\n",
      "in loop 14800 accuracy is [None, 0.98000002]\n",
      "in loop 14900 accuracy is [None, 0.99000001]\n",
      "in loop 15000 accuracy is [None, 1.0]\n",
      "in loop 15100 accuracy is [None, 0.99000001]\n",
      "in loop 15200 accuracy is [None, 1.0]\n",
      "in loop 15300 accuracy is [None, 1.0]\n",
      "in loop 15400 accuracy is [None, 1.0]\n",
      "in loop 15500 accuracy is [None, 0.99000001]\n",
      "in loop 15600 accuracy is [None, 0.99000001]\n",
      "in loop 15700 accuracy is [None, 1.0]\n",
      "in loop 15800 accuracy is [None, 1.0]\n",
      "in loop 15900 accuracy is [None, 0.99000001]\n",
      "in loop 16000 accuracy is [None, 0.99000001]\n",
      "in loop 16100 accuracy is [None, 1.0]\n",
      "in loop 16200 accuracy is [None, 1.0]\n",
      "in loop 16300 accuracy is [None, 0.98000002]\n",
      "in loop 16400 accuracy is [None, 1.0]\n",
      "in loop 16500 accuracy is [None, 1.0]\n",
      "in loop 16600 accuracy is [None, 1.0]\n",
      "in loop 16700 accuracy is [None, 1.0]\n",
      "in loop 16800 accuracy is [None, 1.0]\n",
      "in loop 16900 accuracy is [None, 0.99000001]\n",
      "in loop 17000 accuracy is [None, 0.99000001]\n",
      "in loop 17100 accuracy is [None, 1.0]\n",
      "in loop 17200 accuracy is [None, 1.0]\n",
      "in loop 17300 accuracy is [None, 0.99000001]\n",
      "in loop 17400 accuracy is [None, 1.0]\n",
      "in loop 17500 accuracy is [None, 0.98000002]\n",
      "in loop 17600 accuracy is [None, 1.0]\n",
      "in loop 17700 accuracy is [None, 0.99000001]\n",
      "in loop 17800 accuracy is [None, 0.99000001]\n",
      "in loop 17900 accuracy is [None, 0.99000001]\n",
      "in loop 18000 accuracy is [None, 0.99000001]\n",
      "in loop 18100 accuracy is [None, 1.0]\n",
      "in loop 18200 accuracy is [None, 0.98000002]\n",
      "in loop 18300 accuracy is [None, 1.0]\n",
      "in loop 18400 accuracy is [None, 1.0]\n",
      "in loop 18500 accuracy is [None, 1.0]\n",
      "in loop 18600 accuracy is [None, 0.99000001]\n",
      "in loop 18700 accuracy is [None, 1.0]\n",
      "in loop 18800 accuracy is [None, 1.0]\n",
      "in loop 18900 accuracy is [None, 0.99000001]\n",
      "in loop 19000 accuracy is [None, 1.0]\n",
      "in loop 19100 accuracy is [None, 1.0]\n",
      "in loop 19200 accuracy is [None, 0.99000001]\n",
      "in loop 19300 accuracy is [None, 1.0]\n",
      "in loop 19400 accuracy is [None, 0.99000001]\n",
      "in loop 19500 accuracy is [None, 0.99000001]\n"
     ]
    },
    {
     "name": "stdout",
     "output_type": "stream",
     "text": [
      "in loop 19600 accuracy is [None, 0.98000002]\n",
      "in loop 19700 accuracy is [None, 1.0]\n",
      "in loop 19800 accuracy is [None, 1.0]\n",
      "in loop 19900 accuracy is [None, 0.99000001]\n",
      "in loop 20000 accuracy is [None, 1.0]\n"
     ]
    }
   ],
   "source": [
    "##Training\n",
    "y_ = tf.placeholder(tf.float32, [None, 10])\n",
    "cross_entropy = tf.reduce_mean(tf.nn.softmax_cross_entropy_with_logits(labels=y_, logits=y_2))\n",
    "train_step = tf.train.AdamOptimizer().minimize(cross_entropy)\n",
    "#train_step = tf.train.GradientDescentOptimizer(0.5).minimize(cross_entropy)\n",
    "correct_prediction = tf.equal(tf.argmax(y_2, 1), tf.argmax(y_, 1))\n",
    "accuracy = tf.reduce_mean(tf.cast(correct_prediction, tf.float32))\n",
    "\n",
    "#interactive session\n",
    "sess = tf.InteractiveSession()\n",
    "tf.global_variables_initializer().run()\n",
    "acc = 0\n",
    "for cnt in range(20001):\n",
    "    if cnt%100 == 0:\n",
    "        print(\"in loop {} accuracy is {}\".format(cnt,acc))\n",
    "    #batch sampling of 500\n",
    "    train_set_batch = train_set_train.sample(100)\n",
    "    xs = train_set_batch.values[:,range(1,785)]\n",
    "    ys = train_set_batch.values[:,0]\n",
    "    ys = tf.one_hot(ys, depth = 10).eval()\n",
    "    acc = sess.run([train_step,accuracy], feed_dict={x:xs, y_:ys, keepprob : 0.5})"
   ]
  },
  {
   "cell_type": "code",
   "execution_count": 11,
   "metadata": {},
   "outputs": [
    {
     "name": "stdout",
     "output_type": "stream",
     "text": [
      "0.986089\n"
     ]
    }
   ],
   "source": [
    "#evaluation\n",
    "ys_valid = tf.one_hot(ys_valid, depth = 10).eval()\n",
    "print(sess.run(accuracy, feed_dict={x:xs_valid, y_:ys_valid, keepprob :1.0}))"
   ]
  },
  {
   "cell_type": "code",
   "execution_count": 21,
   "metadata": {},
   "outputs": [
    {
     "name": "stdout",
     "output_type": "stream",
     "text": [
      "starting prediction\n"
     ]
    }
   ],
   "source": [
    "#submission\n",
    "print(\"starting prediction\")\n",
    "prediction = tf.argmax(y_2, 1)\n",
    "predicted_values = sess.run(prediction, feed_dict={x:test_set[15000:len(test)], keepprob : 1.0})\n",
    "\n",
    "my_submission = pd.DataFrame({ 'label': predicted_values})\n",
    "# you could use any filename. We choose submission here\n",
    "my_submission.to_csv('submission3.csv', index=False)"
   ]
  },
  {
   "cell_type": "code",
   "execution_count": null,
   "metadata": {
    "collapsed": true
   },
   "outputs": [],
   "source": []
  }
 ],
 "metadata": {
  "kernelspec": {
   "display_name": "Python [default]",
   "language": "python",
   "name": "python3"
  },
  "language_info": {
   "codemirror_mode": {
    "name": "ipython",
    "version": 3
   },
   "file_extension": ".py",
   "mimetype": "text/x-python",
   "name": "python",
   "nbconvert_exporter": "python",
   "pygments_lexer": "ipython3",
   "version": "3.5.2"
  }
 },
 "nbformat": 4,
 "nbformat_minor": 2
}
